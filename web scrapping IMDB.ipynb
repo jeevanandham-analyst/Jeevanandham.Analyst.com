{
 "cells": [
  {
   "cell_type": "code",
   "execution_count": 53,
   "id": "fbd239d2",
   "metadata": {},
   "outputs": [
    {
     "name": "stdout",
     "output_type": "stream",
     "text": [
      "250\n",
      "Data has been written to csv file: movies_data.csv\n"
     ]
    }
   ],
   "source": [
    "from bs4 import BeautifulSoup\n",
    "import requests\n",
    "import csv\n",
    "\n",
    "url = 'https://www.imdb.com/chart/top/'\n",
    "\n",
    "headers = {'User-Agent':'Mozilla/5.0 (Windows NT 10.0; Win64; x64) AppleWebKit/537.36 (KHTML, like Gecko) Chrome/120.0.0.0 Safari/537.36'}\n",
    "           \n",
    "response = requests.get(url, headers=headers)      \n",
    "           \n",
    "soup = BeautifulSoup(response.content, 'html.parser')\n",
    "           \n",
    "movies = soup.find_all('li', class_='ipc-metadata-list-summary-item sc-1364e729-0 caNpAE cli-parent')\n",
    "           \n",
    "print(len(movies))\n",
    "\n",
    "csv_filename = 'movies_data.csv'\n",
    "with open(csv_filename,mode='w', newline='',encoding='utf-8-sig')as file:\n",
    "    writer = csv.writer(file)\n",
    "    \n",
    "    header = ['Rank','Name','Rating','Year']\n",
    "    writer.writerow(header)\n",
    "\n",
    "    for movie in movies:\n",
    "        Name = movie.find('div',class_='ipc-title ipc-title--base ipc-title--title ipc-title-link-no-icon ipc-title--on-textPrimary sc-1e00898e-9 jQixeG cli-title').a.text.split('.')[1]\n",
    "        Rank = movie.find('div',class_='ipc-title ipc-title--base ipc-title--title ipc-title-link-no-icon ipc-title--on-textPrimary sc-1e00898e-9 jQixeG cli-title').a.text.split('.')[0]\n",
    "        Rating = movie.find('div',class_='sc-e2dbc1a3-0 ajrIH sc-1e00898e-2 cvciZu cli-ratings-container').span.text.split('(')[0]\n",
    "        Year = movie.find('div',class_='sc-1e00898e-7 hcJWUf cli-title-metadata').span.text\n",
    "        \n",
    "        writer.writerow([Rank,Name,Rating,Year])\n",
    "print(\"Data has been written to csv file:\", csv_filename)\n",
    "        \n",
    "        \n",
    "        \n",
    "        \n",
    "        \n",
    "        \n",
    "        \n",
    "        \n",
    "        "
   ]
  },
  {
   "cell_type": "code",
   "execution_count": null,
   "id": "06f7bb15",
   "metadata": {},
   "outputs": [],
   "source": []
  },
  {
   "cell_type": "code",
   "execution_count": null,
   "id": "2e0d1a8b",
   "metadata": {},
   "outputs": [],
   "source": []
  },
  {
   "cell_type": "code",
   "execution_count": null,
   "id": "3407c5c9",
   "metadata": {},
   "outputs": [],
   "source": []
  },
  {
   "cell_type": "code",
   "execution_count": null,
   "id": "cac940f5",
   "metadata": {},
   "outputs": [],
   "source": []
  }
 ],
 "metadata": {
  "kernelspec": {
   "display_name": "Python 3 (ipykernel)",
   "language": "python",
   "name": "python3"
  },
  "language_info": {
   "codemirror_mode": {
    "name": "ipython",
    "version": 3
   },
   "file_extension": ".py",
   "mimetype": "text/x-python",
   "name": "python",
   "nbconvert_exporter": "python",
   "pygments_lexer": "ipython3",
   "version": "3.11.5"
  }
 },
 "nbformat": 4,
 "nbformat_minor": 5
}
